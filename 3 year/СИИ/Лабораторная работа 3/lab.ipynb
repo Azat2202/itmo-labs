{
 "cells": [
  {
   "metadata": {},
   "cell_type": "markdown",
   "source": [
    "# Лабораторная работа 3\n",
    "## Сиразетдинов Азат 368796"
   ],
   "id": "66d24cdcd5364979"
  },
  {
   "metadata": {
    "ExecuteTime": {
     "end_time": "2024-10-09T11:00:27.513978Z",
     "start_time": "2024-10-09T11:00:27.500436Z"
    }
   },
   "cell_type": "code",
   "source": [
    "import numpy as np\n",
    "import pandas as pd\n",
    "import matplotlib.pyplot as plt\n",
    "from sklearn.preprocessing import MinMaxScaler\n",
    "from sklearn.model_selection import train_test_split"
   ],
   "id": "initial_id",
   "outputs": [],
   "execution_count": 37
  },
  {
   "metadata": {
    "ExecuteTime": {
     "end_time": "2024-10-09T11:00:27.560848Z",
     "start_time": "2024-10-09T11:00:27.537278Z"
    }
   },
   "cell_type": "code",
   "source": [
    "data = pd.read_csv('Student_Performance.csv')\n",
    "data[\"Extracurricular Activities\"] = data[\"Extracurricular Activities\"].apply(lambda x: 1.0 if x == \"Yes\" else 0.0)\n",
    "data = data.astype(float)\n",
    "print(data)"
   ],
   "id": "315205eee5bb1cf3",
   "outputs": [
    {
     "name": "stdout",
     "output_type": "stream",
     "text": [
      "      Hours Studied  Previous Scores  Extracurricular Activities  Sleep Hours  \\\n",
      "0               7.0             99.0                         1.0          9.0   \n",
      "1               4.0             82.0                         0.0          4.0   \n",
      "2               8.0             51.0                         1.0          7.0   \n",
      "3               5.0             52.0                         1.0          5.0   \n",
      "4               7.0             75.0                         0.0          8.0   \n",
      "...             ...              ...                         ...          ...   \n",
      "9995            1.0             49.0                         1.0          4.0   \n",
      "9996            7.0             64.0                         1.0          8.0   \n",
      "9997            6.0             83.0                         1.0          8.0   \n",
      "9998            9.0             97.0                         1.0          7.0   \n",
      "9999            7.0             74.0                         0.0          8.0   \n",
      "\n",
      "      Sample Question Papers Practiced  Performance Index  \n",
      "0                                  1.0               91.0  \n",
      "1                                  2.0               65.0  \n",
      "2                                  2.0               45.0  \n",
      "3                                  2.0               36.0  \n",
      "4                                  5.0               66.0  \n",
      "...                                ...                ...  \n",
      "9995                               2.0               23.0  \n",
      "9996                               5.0               58.0  \n",
      "9997                               5.0               74.0  \n",
      "9998                               0.0               95.0  \n",
      "9999                               1.0               64.0  \n",
      "\n",
      "[10000 rows x 6 columns]\n"
     ]
    }
   ],
   "execution_count": 38
  },
  {
   "metadata": {},
   "cell_type": "markdown",
   "source": "### Получите и визуализируйте (графически) статистику по датасету (включая количество, среднее значение, стандартное отклонение, минимум, максимум и различные квантили).",
   "id": "8ffa07685672c3f8"
  },
  {
   "metadata": {
    "ExecuteTime": {
     "end_time": "2024-10-09T11:00:27.592591Z",
     "start_time": "2024-10-09T11:00:27.562826Z"
    }
   },
   "cell_type": "code",
   "source": "data.describe()",
   "id": "b328084600013832",
   "outputs": [
    {
     "data": {
      "text/plain": [
       "       Hours Studied  Previous Scores  Extracurricular Activities  \\\n",
       "count   10000.000000     10000.000000                10000.000000   \n",
       "mean        4.992900        69.445700                    0.494800   \n",
       "std         2.589309        17.343152                    0.499998   \n",
       "min         1.000000        40.000000                    0.000000   \n",
       "25%         3.000000        54.000000                    0.000000   \n",
       "50%         5.000000        69.000000                    0.000000   \n",
       "75%         7.000000        85.000000                    1.000000   \n",
       "max         9.000000        99.000000                    1.000000   \n",
       "\n",
       "        Sleep Hours  Sample Question Papers Practiced  Performance Index  \n",
       "count  10000.000000                      10000.000000       10000.000000  \n",
       "mean       6.530600                          4.583300          55.224800  \n",
       "std        1.695863                          2.867348          19.212558  \n",
       "min        4.000000                          0.000000          10.000000  \n",
       "25%        5.000000                          2.000000          40.000000  \n",
       "50%        7.000000                          5.000000          55.000000  \n",
       "75%        8.000000                          7.000000          71.000000  \n",
       "max        9.000000                          9.000000         100.000000  "
      ],
      "text/html": [
       "<div>\n",
       "<style scoped>\n",
       "    .dataframe tbody tr th:only-of-type {\n",
       "        vertical-align: middle;\n",
       "    }\n",
       "\n",
       "    .dataframe tbody tr th {\n",
       "        vertical-align: top;\n",
       "    }\n",
       "\n",
       "    .dataframe thead th {\n",
       "        text-align: right;\n",
       "    }\n",
       "</style>\n",
       "<table border=\"1\" class=\"dataframe\">\n",
       "  <thead>\n",
       "    <tr style=\"text-align: right;\">\n",
       "      <th></th>\n",
       "      <th>Hours Studied</th>\n",
       "      <th>Previous Scores</th>\n",
       "      <th>Extracurricular Activities</th>\n",
       "      <th>Sleep Hours</th>\n",
       "      <th>Sample Question Papers Practiced</th>\n",
       "      <th>Performance Index</th>\n",
       "    </tr>\n",
       "  </thead>\n",
       "  <tbody>\n",
       "    <tr>\n",
       "      <th>count</th>\n",
       "      <td>10000.000000</td>\n",
       "      <td>10000.000000</td>\n",
       "      <td>10000.000000</td>\n",
       "      <td>10000.000000</td>\n",
       "      <td>10000.000000</td>\n",
       "      <td>10000.000000</td>\n",
       "    </tr>\n",
       "    <tr>\n",
       "      <th>mean</th>\n",
       "      <td>4.992900</td>\n",
       "      <td>69.445700</td>\n",
       "      <td>0.494800</td>\n",
       "      <td>6.530600</td>\n",
       "      <td>4.583300</td>\n",
       "      <td>55.224800</td>\n",
       "    </tr>\n",
       "    <tr>\n",
       "      <th>std</th>\n",
       "      <td>2.589309</td>\n",
       "      <td>17.343152</td>\n",
       "      <td>0.499998</td>\n",
       "      <td>1.695863</td>\n",
       "      <td>2.867348</td>\n",
       "      <td>19.212558</td>\n",
       "    </tr>\n",
       "    <tr>\n",
       "      <th>min</th>\n",
       "      <td>1.000000</td>\n",
       "      <td>40.000000</td>\n",
       "      <td>0.000000</td>\n",
       "      <td>4.000000</td>\n",
       "      <td>0.000000</td>\n",
       "      <td>10.000000</td>\n",
       "    </tr>\n",
       "    <tr>\n",
       "      <th>25%</th>\n",
       "      <td>3.000000</td>\n",
       "      <td>54.000000</td>\n",
       "      <td>0.000000</td>\n",
       "      <td>5.000000</td>\n",
       "      <td>2.000000</td>\n",
       "      <td>40.000000</td>\n",
       "    </tr>\n",
       "    <tr>\n",
       "      <th>50%</th>\n",
       "      <td>5.000000</td>\n",
       "      <td>69.000000</td>\n",
       "      <td>0.000000</td>\n",
       "      <td>7.000000</td>\n",
       "      <td>5.000000</td>\n",
       "      <td>55.000000</td>\n",
       "    </tr>\n",
       "    <tr>\n",
       "      <th>75%</th>\n",
       "      <td>7.000000</td>\n",
       "      <td>85.000000</td>\n",
       "      <td>1.000000</td>\n",
       "      <td>8.000000</td>\n",
       "      <td>7.000000</td>\n",
       "      <td>71.000000</td>\n",
       "    </tr>\n",
       "    <tr>\n",
       "      <th>max</th>\n",
       "      <td>9.000000</td>\n",
       "      <td>99.000000</td>\n",
       "      <td>1.000000</td>\n",
       "      <td>9.000000</td>\n",
       "      <td>9.000000</td>\n",
       "      <td>100.000000</td>\n",
       "    </tr>\n",
       "  </tbody>\n",
       "</table>\n",
       "</div>"
      ]
     },
     "execution_count": 39,
     "metadata": {},
     "output_type": "execute_result"
    }
   ],
   "execution_count": 39
  },
  {
   "metadata": {
    "ExecuteTime": {
     "end_time": "2024-10-09T11:00:28.489474Z",
     "start_time": "2024-10-09T11:00:27.594082Z"
    }
   },
   "cell_type": "code",
   "source": [
    "plt.figure(figsize=(9, 9))\n",
    "for i, column in enumerate(data.columns):\n",
    "    plt.subplot(3, 3, i+1)\n",
    "    offset = data[column].std()\n",
    "    mid = data[column].mean()\n",
    "    plt.hist(data[column])\n",
    "    plt.title(column)\n",
    "    plt.axvline(mid, color='red')\n",
    "    plt.axvline(mid - offset, color='orange', linestyle='--')\n",
    "    plt.axvline(mid + offset, color='orange', linestyle='--')\n",
    "plt.tight_layout()\n",
    "plt.show()"
   ],
   "id": "225e7a9b01e647f1",
   "outputs": [
    {
     "data": {
      "text/plain": [
       "<Figure size 900x900 with 6 Axes>"
      ],
      "image/png": "[encoded data removed]"
     },
     "metadata": {},
     "output_type": "display_data"
    }
   ],
   "execution_count": 40
  },
  {
   "metadata": {},
   "cell_type": "markdown",
   "source": "### Проведите предварительную обработку данных, включая обработку отсутствующих значений, кодирование категориальных признаков и нормировка",
   "id": "b915680181ae3988"
  },
  {
   "metadata": {
    "ExecuteTime": {
     "end_time": "2024-10-09T11:00:28.520726Z",
     "start_time": "2024-10-09T11:00:28.492476Z"
    }
   },
   "cell_type": "code",
   "source": [
    "data = data.dropna()\n",
    "numerical_columns = data.select_dtypes(include=['float64', 'int64']).columns\n",
    "categorical_columns = data.select_dtypes(include=['object', 'category']).columns\n",
    "assert categorical_columns.values.size == 0\n",
    "\n",
    "scaler = MinMaxScaler()\n",
    "data.iloc[:, :-1] = scaler.fit_transform(data.iloc[:, :-1])\n",
    "data"
   ],
   "id": "603fb0f2029d3a84",
   "outputs": [
    {
     "data": {
      "text/plain": [
       "      Hours Studied  Previous Scores  Extracurricular Activities  Sleep Hours  \\\n",
       "0             0.750         1.000000                         1.0          1.0   \n",
       "1             0.375         0.711864                         0.0          0.0   \n",
       "2             0.875         0.186441                         1.0          0.6   \n",
       "3             0.500         0.203390                         1.0          0.2   \n",
       "4             0.750         0.593220                         0.0          0.8   \n",
       "...             ...              ...                         ...          ...   \n",
       "9995          0.000         0.152542                         1.0          0.0   \n",
       "9996          0.750         0.406780                         1.0          0.8   \n",
       "9997          0.625         0.728814                         1.0          0.8   \n",
       "9998          1.000         0.966102                         1.0          0.6   \n",
       "9999          0.750         0.576271                         0.0          0.8   \n",
       "\n",
       "      Sample Question Papers Practiced  Performance Index  \n",
       "0                             0.111111               91.0  \n",
       "1                             0.222222               65.0  \n",
       "2                             0.222222               45.0  \n",
       "3                             0.222222               36.0  \n",
       "4                             0.555556               66.0  \n",
       "...                                ...                ...  \n",
       "9995                          0.222222               23.0  \n",
       "9996                          0.555556               58.0  \n",
       "9997                          0.555556               74.0  \n",
       "9998                          0.000000               95.0  \n",
       "9999                          0.111111               64.0  \n",
       "\n",
       "[10000 rows x 6 columns]"
      ],
      "text/html": [
       "<div>\n",
       "<style scoped>\n",
       "    .dataframe tbody tr th:only-of-type {\n",
       "        vertical-align: middle;\n",
       "    }\n",
       "\n",
       "    .dataframe tbody tr th {\n",
       "        vertical-align: top;\n",
       "    }\n",
       "\n",
       "    .dataframe thead th {\n",
       "        text-align: right;\n",
       "    }\n",
       "</style>\n",
       "<table border=\"1\" class=\"dataframe\">\n",
       "  <thead>\n",
       "    <tr style=\"text-align: right;\">\n",
       "      <th></th>\n",
       "      <th>Hours Studied</th>\n",
       "      <th>Previous Scores</th>\n",
       "      <th>Extracurricular Activities</th>\n",
       "      <th>Sleep Hours</th>\n",
       "      <th>Sample Question Papers Practiced</th>\n",
       "      <th>Performance Index</th>\n",
       "    </tr>\n",
       "  </thead>\n",
       "  <tbody>\n",
       "    <tr>\n",
       "      <th>0</th>\n",
       "      <td>0.750</td>\n",
       "      <td>1.000000</td>\n",
       "      <td>1.0</td>\n",
       "      <td>1.0</td>\n",
       "      <td>0.111111</td>\n",
       "      <td>91.0</td>\n",
       "    </tr>\n",
       "    <tr>\n",
       "      <th>1</th>\n",
       "      <td>0.375</td>\n",
       "      <td>0.711864</td>\n",
       "      <td>0.0</td>\n",
       "      <td>0.0</td>\n",
       "      <td>0.222222</td>\n",
       "      <td>65.0</td>\n",
       "    </tr>\n",
       "    <tr>\n",
       "      <th>2</th>\n",
       "      <td>0.875</td>\n",
       "      <td>0.186441</td>\n",
       "      <td>1.0</td>\n",
       "      <td>0.6</td>\n",
       "      <td>0.222222</td>\n",
       "      <td>45.0</td>\n",
       "    </tr>\n",
       "    <tr>\n",
       "      <th>3</th>\n",
       "      <td>0.500</td>\n",
       "      <td>0.203390</td>\n",
       "      <td>1.0</td>\n",
       "      <td>0.2</td>\n",
       "      <td>0.222222</td>\n",
       "      <td>36.0</td>\n",
       "    </tr>\n",
       "    <tr>\n",
       "      <th>4</th>\n",
       "      <td>0.750</td>\n",
       "      <td>0.593220</td>\n",
       "      <td>0.0</td>\n",
       "      <td>0.8</td>\n",
       "      <td>0.555556</td>\n",
       "      <td>66.0</td>\n",
       "    </tr>\n",
       "    <tr>\n",
       "      <th>...</th>\n",
       "      <td>...</td>\n",
       "      <td>...</td>\n",
       "      <td>...</td>\n",
       "      <td>...</td>\n",
       "      <td>...</td>\n",
       "      <td>...</td>\n",
       "    </tr>\n",
       "    <tr>\n",
       "      <th>9995</th>\n",
       "      <td>0.000</td>\n",
       "      <td>0.152542</td>\n",
       "      <td>1.0</td>\n",
       "      <td>0.0</td>\n",
       "      <td>0.222222</td>\n",
       "      <td>23.0</td>\n",
       "    </tr>\n",
       "    <tr>\n",
       "      <th>9996</th>\n",
       "      <td>0.750</td>\n",
       "      <td>0.406780</td>\n",
       "      <td>1.0</td>\n",
       "      <td>0.8</td>\n",
       "      <td>0.555556</td>\n",
       "      <td>58.0</td>\n",
       "    </tr>\n",
       "    <tr>\n",
       "      <th>9997</th>\n",
       "      <td>0.625</td>\n",
       "      <td>0.728814</td>\n",
       "      <td>1.0</td>\n",
       "      <td>0.8</td>\n",
       "      <td>0.555556</td>\n",
       "      <td>74.0</td>\n",
       "    </tr>\n",
       "    <tr>\n",
       "      <th>9998</th>\n",
       "      <td>1.000</td>\n",
       "      <td>0.966102</td>\n",
       "      <td>1.0</td>\n",
       "      <td>0.6</td>\n",
       "      <td>0.000000</td>\n",
       "      <td>95.0</td>\n",
       "    </tr>\n",
       "    <tr>\n",
       "      <th>9999</th>\n",
       "      <td>0.750</td>\n",
       "      <td>0.576271</td>\n",
       "      <td>0.0</td>\n",
       "      <td>0.8</td>\n",
       "      <td>0.111111</td>\n",
       "      <td>64.0</td>\n",
       "    </tr>\n",
       "  </tbody>\n",
       "</table>\n",
       "<p>10000 rows × 6 columns</p>\n",
       "</div>"
      ]
     },
     "execution_count": 41,
     "metadata": {},
     "output_type": "execute_result"
    }
   ],
   "execution_count": 41
  },
  {
   "metadata": {},
   "cell_type": "markdown",
   "source": "### Разделите данные на обучающий и тестовый наборы данных.",
   "id": "79057ce078426e42"
  },
  {
   "metadata": {
    "ExecuteTime": {
     "end_time": "2024-10-09T11:00:28.536773Z",
     "start_time": "2024-10-09T11:00:28.522727Z"
    }
   },
   "cell_type": "code",
   "source": [
    "X = data.drop(columns=['Performance Index'])\n",
    "Y = data['Performance Index']\n",
    "X = np.c_[np.ones(X.shape[0]), X]  # bias\n",
    "\n",
    "X_train, X_test, Y_train, Y_test = train_test_split(X, Y, test_size=0.2, random_state=42)"
   ],
   "id": "d5cc099c8a03d893",
   "outputs": [],
   "execution_count": 42
  },
  {
   "metadata": {},
   "cell_type": "markdown",
   "source": "### Реализуйте линейную регрессию с использованием метода наименьших квадратов без использования сторонних библиотек, кроме NumPy и Pandas (для использования коэффициентов использовать библиотеки тоже нельзя). Использовать минимизацию суммы квадратов разностей между фактическими и предсказанными значениями для нахождения оптимальных коэффициентов.",
   "id": "3bab063cfcf6021b"
  },
  {
   "metadata": {
    "ExecuteTime": {
     "end_time": "2024-10-09T11:00:28.552293Z",
     "start_time": "2024-10-09T11:00:28.538773Z"
    }
   },
   "cell_type": "code",
   "source": [
    "def lin_reg(X, Y):\n",
    "    B = np.linalg.inv(X.T.dot(X)).dot(X.T).dot(Y)\n",
    "    return B"
   ],
   "id": "d5c9b8cd6572b742",
   "outputs": [],
   "execution_count": 43
  },
  {
   "metadata": {
    "ExecuteTime": {
     "end_time": "2024-10-09T11:00:28.568373Z",
     "start_time": "2024-10-09T11:00:28.554810Z"
    }
   },
   "cell_type": "code",
   "source": [
    "def r_squared(Y_pred, Y):\n",
    "    return 1 - ((Y_pred - Y) ** 2).sum() / ((Y.mean() - Y) ** 2).sum()"
   ],
   "id": "e9d4f5947ad716e4",
   "outputs": [],
   "execution_count": 44
  },
  {
   "metadata": {},
   "cell_type": "markdown",
   "source": [
    "### Модель 1\n",
    "Все признаки"
   ],
   "id": "9dc146062c817506"
  },
  {
   "metadata": {
    "ExecuteTime": {
     "end_time": "2024-10-09T11:00:28.583900Z",
     "start_time": "2024-10-09T11:00:28.570375Z"
    }
   },
   "cell_type": "code",
   "source": [
    "B_model1 = lin_reg(X_train, Y_train)\n",
    "Y_pred_model1 = np.dot(X_test, B_model1)\n",
    "r2_model1 = r_squared(Y_test, Y_pred_model1)\n",
    "print(f\"r^2 для модели 1 со всеми признаками: {r2_model1}\")"
   ],
   "id": "d4a0968043fa5dc1",
   "outputs": [
    {
     "name": "stdout",
     "output_type": "stream",
     "text": [
      "r^2 для модели 1 со всеми признаками: 0.9887203279837657\n"
     ]
    }
   ],
   "execution_count": 45
  },
  {
   "metadata": {},
   "cell_type": "markdown",
   "source": [
    "### Модель 2\n",
    "Без учета количесства сна"
   ],
   "id": "c76cf3a00fcc02b5"
  },
  {
   "metadata": {
    "ExecuteTime": {
     "end_time": "2024-10-09T11:00:28.599432Z",
     "start_time": "2024-10-09T11:00:28.584907Z"
    }
   },
   "cell_type": "code",
   "source": [
    "X_train_model2 = np.delete(X_train, [3], axis=1)\n",
    "X_test_model2 = np.delete(X_test, [3], axis=1)\n",
    "B_model2 = lin_reg(X_train_model2, Y_train)\n",
    "Y_pred_model2 = np.dot(X_test_model2, B_model2)\n",
    "r2_model2 = r_squared(Y_test, Y_pred_model2)\n",
    "print(f\"r^2 для модели 2 без учета количества сна: {r2_model1}\")"
   ],
   "id": "1bf099dbfbfb04f8",
   "outputs": [
    {
     "name": "stdout",
     "output_type": "stream",
     "text": [
      "r^2 для модели 2 без учета количества сна: 0.9887203279837657\n"
     ]
    }
   ],
   "execution_count": 46
  },
  {
   "metadata": {},
   "cell_type": "markdown",
   "source": [
    "### Модель 3\n",
    "\n",
    "Без учета предыдущих оценок"
   ],
   "id": "ea0d25d2be2f280"
  },
  {
   "metadata": {
    "ExecuteTime": {
     "end_time": "2024-10-09T11:00:28.615462Z",
     "start_time": "2024-10-09T11:00:28.601435Z"
    }
   },
   "cell_type": "code",
   "source": [
    "X_train_model3 = np.delete(X_train, 1, axis=1)\n",
    "X_test_model3 = np.delete(X_test, 1, axis=1)\n",
    "B_model3 = lin_reg(X_train_model3, Y_train)\n",
    "Y_pred_model3 = np.dot(X_test_model3, B_model3)\n",
    "r2_model3 = r_squared(Y_test, Y_pred_model3)\n",
    "print(f\"r^2 для модели 3 без учета предыдущих оценок: {r2_model3}\")"
   ],
   "id": "faa9aeb74183640c",
   "outputs": [
    {
     "name": "stdout",
     "output_type": "stream",
     "text": [
      "r^2 для модели 3 без учета предыдущих оценок: 0.8139705702127584\n"
     ]
    }
   ],
   "execution_count": 47
  },
  {
   "metadata": {},
   "cell_type": "markdown",
   "source": [
    "Лучше всего показала себя модель 1 и 2\n",
    "Можно сделать вывод что количество сна не влияет на полученную оценку, но существует корреляция между предыдущими оценками и будущими "
   ],
   "id": "4ab3eae8ed5dd09c"
  }
 ],
 "metadata": {
  "kernelspec": {
   "display_name": "Python 3",
   "language": "python",
   "name": "python3"
  },
  "language_info": {
   "codemirror_mode": {
    "name": "ipython",
    "version": 2
   },
   "file_extension": ".py",
   "mimetype": "text/x-python",
   "name": "python",
   "nbconvert_exporter": "python",
   "pygments_lexer": "ipython2",
   "version": "2.7.6"
  }
 },
 "nbformat": 4,
 "nbformat_minor": 5
}
