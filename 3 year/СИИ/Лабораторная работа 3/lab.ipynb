{
 "cells": [
  {
   "metadata": {},
   "cell_type": "markdown",
   "source": [
    "# Лабораторная работа 3\n",
    "## Сиразетдинов Азат 368796"
   ],
   "id": "66d24cdcd5364979"
  },
  {
   "metadata": {
    "ExecuteTime": {
     "end_time": "2024-10-07T23:23:37.021782Z",
     "start_time": "2024-10-07T23:23:37.017380Z"
    }
   },
   "cell_type": "code",
   "source": [
    "import numpy as np\n",
    "import pandas as pd\n",
    "import matplotlib.pyplot as plt\n",
    "from sklearn.preprocessing import MinMaxScaler\n",
    "from sklearn.model_selection import train_test_split"
   ],
   "id": "initial_id",
   "outputs": [],
   "execution_count": 165
  },
  {
   "metadata": {
    "ExecuteTime": {
     "end_time": "2024-10-07T23:23:37.098365Z",
     "start_time": "2024-10-07T23:23:37.059418Z"
    }
   },
   "cell_type": "code",
   "source": [
    "data = pd.read_csv('california_housing_train.csv')\n",
    "print(data)"
   ],
   "id": "315205eee5bb1cf3",
   "outputs": [
    {
     "name": "stdout",
     "output_type": "stream",
     "text": [
      "       longitude  latitude  housing_median_age  total_rooms  total_bedrooms  \\\n",
      "0        -114.31     34.19                15.0       5612.0          1283.0   \n",
      "1        -114.47     34.40                19.0       7650.0          1901.0   \n",
      "2        -114.56     33.69                17.0        720.0           174.0   \n",
      "3        -114.57     33.64                14.0       1501.0           337.0   \n",
      "4        -114.57     33.57                20.0       1454.0           326.0   \n",
      "...          ...       ...                 ...          ...             ...   \n",
      "16995    -124.26     40.58                52.0       2217.0           394.0   \n",
      "16996    -124.27     40.69                36.0       2349.0           528.0   \n",
      "16997    -124.30     41.84                17.0       2677.0           531.0   \n",
      "16998    -124.30     41.80                19.0       2672.0           552.0   \n",
      "16999    -124.35     40.54                52.0       1820.0           300.0   \n",
      "\n",
      "       population  households  median_income  median_house_value  \n",
      "0          1015.0       472.0         1.4936             66900.0  \n",
      "1          1129.0       463.0         1.8200             80100.0  \n",
      "2           333.0       117.0         1.6509             85700.0  \n",
      "3           515.0       226.0         3.1917             73400.0  \n",
      "4           624.0       262.0         1.9250             65500.0  \n",
      "...           ...         ...            ...                 ...  \n",
      "16995       907.0       369.0         2.3571            111400.0  \n",
      "16996      1194.0       465.0         2.5179             79000.0  \n",
      "16997      1244.0       456.0         3.0313            103600.0  \n",
      "16998      1298.0       478.0         1.9797             85800.0  \n",
      "16999       806.0       270.0         3.0147             94600.0  \n",
      "\n",
      "[17000 rows x 9 columns]\n"
     ]
    }
   ],
   "execution_count": 166
  },
  {
   "metadata": {},
   "cell_type": "markdown",
   "source": "### Получите и визуализируйте (графически) статистику по датасету (включая количество, среднее значение, стандартное отклонение, минимум, максимум и различные квантили).",
   "id": "8ffa07685672c3f8"
  },
  {
   "metadata": {
    "ExecuteTime": {
     "end_time": "2024-10-07T23:23:37.130551Z",
     "start_time": "2024-10-07T23:23:37.099876Z"
    }
   },
   "cell_type": "code",
   "source": "data.describe()",
   "id": "b328084600013832",
   "outputs": [
    {
     "data": {
      "text/plain": [
       "          longitude      latitude  housing_median_age   total_rooms  \\\n",
       "count  17000.000000  17000.000000        17000.000000  17000.000000   \n",
       "mean    -119.562108     35.625225           28.589353   2643.664412   \n",
       "std        2.005166      2.137340           12.586937   2179.947071   \n",
       "min     -124.350000     32.540000            1.000000      2.000000   \n",
       "25%     -121.790000     33.930000           18.000000   1462.000000   \n",
       "50%     -118.490000     34.250000           29.000000   2127.000000   \n",
       "75%     -118.000000     37.720000           37.000000   3151.250000   \n",
       "max     -114.310000     41.950000           52.000000  37937.000000   \n",
       "\n",
       "       total_bedrooms    population    households  median_income  \\\n",
       "count    17000.000000  17000.000000  17000.000000   17000.000000   \n",
       "mean       539.410824   1429.573941    501.221941       3.883578   \n",
       "std        421.499452   1147.852959    384.520841       1.908157   \n",
       "min          1.000000      3.000000      1.000000       0.499900   \n",
       "25%        297.000000    790.000000    282.000000       2.566375   \n",
       "50%        434.000000   1167.000000    409.000000       3.544600   \n",
       "75%        648.250000   1721.000000    605.250000       4.767000   \n",
       "max       6445.000000  35682.000000   6082.000000      15.000100   \n",
       "\n",
       "       median_house_value  \n",
       "count        17000.000000  \n",
       "mean        207300.912353  \n",
       "std         115983.764387  \n",
       "min          14999.000000  \n",
       "25%         119400.000000  \n",
       "50%         180400.000000  \n",
       "75%         265000.000000  \n",
       "max         500001.000000  "
      ],
      "text/html": [
       "<div>\n",
       "<style scoped>\n",
       "    .dataframe tbody tr th:only-of-type {\n",
       "        vertical-align: middle;\n",
       "    }\n",
       "\n",
       "    .dataframe tbody tr th {\n",
       "        vertical-align: top;\n",
       "    }\n",
       "\n",
       "    .dataframe thead th {\n",
       "        text-align: right;\n",
       "    }\n",
       "</style>\n",
       "<table border=\"1\" class=\"dataframe\">\n",
       "  <thead>\n",
       "    <tr style=\"text-align: right;\">\n",
       "      <th></th>\n",
       "      <th>longitude</th>\n",
       "      <th>latitude</th>\n",
       "      <th>housing_median_age</th>\n",
       "      <th>total_rooms</th>\n",
       "      <th>total_bedrooms</th>\n",
       "      <th>population</th>\n",
       "      <th>households</th>\n",
       "      <th>median_income</th>\n",
       "      <th>median_house_value</th>\n",
       "    </tr>\n",
       "  </thead>\n",
       "  <tbody>\n",
       "    <tr>\n",
       "      <th>count</th>\n",
       "      <td>17000.000000</td>\n",
       "      <td>17000.000000</td>\n",
       "      <td>17000.000000</td>\n",
       "      <td>17000.000000</td>\n",
       "      <td>17000.000000</td>\n",
       "      <td>17000.000000</td>\n",
       "      <td>17000.000000</td>\n",
       "      <td>17000.000000</td>\n",
       "      <td>17000.000000</td>\n",
       "    </tr>\n",
       "    <tr>\n",
       "      <th>mean</th>\n",
       "      <td>-119.562108</td>\n",
       "      <td>35.625225</td>\n",
       "      <td>28.589353</td>\n",
       "      <td>2643.664412</td>\n",
       "      <td>539.410824</td>\n",
       "      <td>1429.573941</td>\n",
       "      <td>501.221941</td>\n",
       "      <td>3.883578</td>\n",
       "      <td>207300.912353</td>\n",
       "    </tr>\n",
       "    <tr>\n",
       "      <th>std</th>\n",
       "      <td>2.005166</td>\n",
       "      <td>2.137340</td>\n",
       "      <td>12.586937</td>\n",
       "      <td>2179.947071</td>\n",
       "      <td>421.499452</td>\n",
       "      <td>1147.852959</td>\n",
       "      <td>384.520841</td>\n",
       "      <td>1.908157</td>\n",
       "      <td>115983.764387</td>\n",
       "    </tr>\n",
       "    <tr>\n",
       "      <th>min</th>\n",
       "      <td>-124.350000</td>\n",
       "      <td>32.540000</td>\n",
       "      <td>1.000000</td>\n",
       "      <td>2.000000</td>\n",
       "      <td>1.000000</td>\n",
       "      <td>3.000000</td>\n",
       "      <td>1.000000</td>\n",
       "      <td>0.499900</td>\n",
       "      <td>14999.000000</td>\n",
       "    </tr>\n",
       "    <tr>\n",
       "      <th>25%</th>\n",
       "      <td>-121.790000</td>\n",
       "      <td>33.930000</td>\n",
       "      <td>18.000000</td>\n",
       "      <td>1462.000000</td>\n",
       "      <td>297.000000</td>\n",
       "      <td>790.000000</td>\n",
       "      <td>282.000000</td>\n",
       "      <td>2.566375</td>\n",
       "      <td>119400.000000</td>\n",
       "    </tr>\n",
       "    <tr>\n",
       "      <th>50%</th>\n",
       "      <td>-118.490000</td>\n",
       "      <td>34.250000</td>\n",
       "      <td>29.000000</td>\n",
       "      <td>2127.000000</td>\n",
       "      <td>434.000000</td>\n",
       "      <td>1167.000000</td>\n",
       "      <td>409.000000</td>\n",
       "      <td>3.544600</td>\n",
       "      <td>180400.000000</td>\n",
       "    </tr>\n",
       "    <tr>\n",
       "      <th>75%</th>\n",
       "      <td>-118.000000</td>\n",
       "      <td>37.720000</td>\n",
       "      <td>37.000000</td>\n",
       "      <td>3151.250000</td>\n",
       "      <td>648.250000</td>\n",
       "      <td>1721.000000</td>\n",
       "      <td>605.250000</td>\n",
       "      <td>4.767000</td>\n",
       "      <td>265000.000000</td>\n",
       "    </tr>\n",
       "    <tr>\n",
       "      <th>max</th>\n",
       "      <td>-114.310000</td>\n",
       "      <td>41.950000</td>\n",
       "      <td>52.000000</td>\n",
       "      <td>37937.000000</td>\n",
       "      <td>6445.000000</td>\n",
       "      <td>35682.000000</td>\n",
       "      <td>6082.000000</td>\n",
       "      <td>15.000100</td>\n",
       "      <td>500001.000000</td>\n",
       "    </tr>\n",
       "  </tbody>\n",
       "</table>\n",
       "</div>"
      ]
     },
     "execution_count": 167,
     "metadata": {},
     "output_type": "execute_result"
    }
   ],
   "execution_count": 167
  },
  {
   "metadata": {
    "ExecuteTime": {
     "end_time": "2024-10-07T23:23:38.180535Z",
     "start_time": "2024-10-07T23:23:37.132457Z"
    }
   },
   "cell_type": "code",
   "source": [
    "plt.figure(figsize=(9, 9))\n",
    "for i, column in enumerate(data.columns):\n",
    "    plt.subplot(3, 3, i+1)\n",
    "    offset = data[column].std()\n",
    "    mid = data[column].mean()\n",
    "    plt.hist(data[column])\n",
    "    plt.title(column)\n",
    "    plt.axvline(mid, color='red')\n",
    "    plt.axvline(mid - offset, color='orange', linestyle='--')\n",
    "    plt.axvline(mid + offset, color='orange', linestyle='--')\n",
    "plt.tight_layout()\n",
    "plt.show()"
   ],
   "id": "225e7a9b01e647f1",
   "outputs": [
    {
     "data": {
      "text/plain": [
       "<Figure size 900x900 with 9 Axes>"
      ],
      "image/png": "[encoded data removed]"
     },
     "metadata": {},
     "output_type": "display_data"
    }
   ],
   "execution_count": 168
  },
  {
   "metadata": {},
   "cell_type": "markdown",
   "source": "### Проведите предварительную обработку данных, включая обработку отсутствующих значений, кодирование категориальных признаков и нормировка",
   "id": "b915680181ae3988"
  },
  {
   "metadata": {
    "ExecuteTime": {
     "end_time": "2024-10-07T23:23:38.211860Z",
     "start_time": "2024-10-07T23:23:38.182508Z"
    }
   },
   "cell_type": "code",
   "source": [
    "data = data.dropna()\n",
    "numerical_columns = data.select_dtypes(include=['float64', 'int64']).columns\n",
    "categorical_columns = data.select_dtypes(include=['object', 'category']).columns\n",
    "assert categorical_columns.values.size == 0\n",
    "\n",
    "scaler = MinMaxScaler()\n",
    "data.iloc[:, :-1] = scaler.fit_transform(data.iloc[:, :-1])\n",
    "data"
   ],
   "id": "603fb0f2029d3a84",
   "outputs": [
    {
     "data": {
      "text/plain": [
       "       longitude  latitude  housing_median_age  total_rooms  total_bedrooms  \\\n",
       "0       1.000000  0.175345            0.274510     0.147885        0.198945   \n",
       "1       0.984064  0.197662            0.352941     0.201608        0.294848   \n",
       "2       0.975100  0.122210            0.313725     0.018927        0.026847   \n",
       "3       0.974104  0.116897            0.254902     0.039515        0.052142   \n",
       "4       0.974104  0.109458            0.372549     0.038276        0.050435   \n",
       "...          ...       ...                 ...          ...             ...   \n",
       "16995   0.008964  0.854410            1.000000     0.058389        0.060987   \n",
       "16996   0.007968  0.866100            0.686275     0.061869        0.081782   \n",
       "16997   0.004980  0.988310            0.313725     0.070515        0.082247   \n",
       "16998   0.004980  0.984060            0.352941     0.070384        0.085506   \n",
       "16999   0.000000  0.850159            1.000000     0.047924        0.046400   \n",
       "\n",
       "       population  households  median_income  median_house_value  \n",
       "0        0.028364    0.077454       0.068530             66900.0  \n",
       "1        0.031559    0.075974       0.091040             80100.0  \n",
       "2        0.009249    0.019076       0.079378             85700.0  \n",
       "3        0.014350    0.037000       0.185639             73400.0  \n",
       "4        0.017405    0.042921       0.098281             65500.0  \n",
       "...           ...         ...            ...                 ...  \n",
       "16995    0.025337    0.060516       0.128081            111400.0  \n",
       "16996    0.033381    0.076303       0.139170             79000.0  \n",
       "16997    0.034782    0.074823       0.174577            103600.0  \n",
       "16998    0.036296    0.078441       0.102054             85800.0  \n",
       "16999    0.022506    0.044236       0.173432             94600.0  \n",
       "\n",
       "[17000 rows x 9 columns]"
      ],
      "text/html": [
       "<div>\n",
       "<style scoped>\n",
       "    .dataframe tbody tr th:only-of-type {\n",
       "        vertical-align: middle;\n",
       "    }\n",
       "\n",
       "    .dataframe tbody tr th {\n",
       "        vertical-align: top;\n",
       "    }\n",
       "\n",
       "    .dataframe thead th {\n",
       "        text-align: right;\n",
       "    }\n",
       "</style>\n",
       "<table border=\"1\" class=\"dataframe\">\n",
       "  <thead>\n",
       "    <tr style=\"text-align: right;\">\n",
       "      <th></th>\n",
       "      <th>longitude</th>\n",
       "      <th>latitude</th>\n",
       "      <th>housing_median_age</th>\n",
       "      <th>total_rooms</th>\n",
       "      <th>total_bedrooms</th>\n",
       "      <th>population</th>\n",
       "      <th>households</th>\n",
       "      <th>median_income</th>\n",
       "      <th>median_house_value</th>\n",
       "    </tr>\n",
       "  </thead>\n",
       "  <tbody>\n",
       "    <tr>\n",
       "      <th>0</th>\n",
       "      <td>1.000000</td>\n",
       "      <td>0.175345</td>\n",
       "      <td>0.274510</td>\n",
       "      <td>0.147885</td>\n",
       "      <td>0.198945</td>\n",
       "      <td>0.028364</td>\n",
       "      <td>0.077454</td>\n",
       "      <td>0.068530</td>\n",
       "      <td>66900.0</td>\n",
       "    </tr>\n",
       "    <tr>\n",
       "      <th>1</th>\n",
       "      <td>0.984064</td>\n",
       "      <td>0.197662</td>\n",
       "      <td>0.352941</td>\n",
       "      <td>0.201608</td>\n",
       "      <td>0.294848</td>\n",
       "      <td>0.031559</td>\n",
       "      <td>0.075974</td>\n",
       "      <td>0.091040</td>\n",
       "      <td>80100.0</td>\n",
       "    </tr>\n",
       "    <tr>\n",
       "      <th>2</th>\n",
       "      <td>0.975100</td>\n",
       "      <td>0.122210</td>\n",
       "      <td>0.313725</td>\n",
       "      <td>0.018927</td>\n",
       "      <td>0.026847</td>\n",
       "      <td>0.009249</td>\n",
       "      <td>0.019076</td>\n",
       "      <td>0.079378</td>\n",
       "      <td>85700.0</td>\n",
       "    </tr>\n",
       "    <tr>\n",
       "      <th>3</th>\n",
       "      <td>0.974104</td>\n",
       "      <td>0.116897</td>\n",
       "      <td>0.254902</td>\n",
       "      <td>0.039515</td>\n",
       "      <td>0.052142</td>\n",
       "      <td>0.014350</td>\n",
       "      <td>0.037000</td>\n",
       "      <td>0.185639</td>\n",
       "      <td>73400.0</td>\n",
       "    </tr>\n",
       "    <tr>\n",
       "      <th>4</th>\n",
       "      <td>0.974104</td>\n",
       "      <td>0.109458</td>\n",
       "      <td>0.372549</td>\n",
       "      <td>0.038276</td>\n",
       "      <td>0.050435</td>\n",
       "      <td>0.017405</td>\n",
       "      <td>0.042921</td>\n",
       "      <td>0.098281</td>\n",
       "      <td>65500.0</td>\n",
       "    </tr>\n",
       "    <tr>\n",
       "      <th>...</th>\n",
       "      <td>...</td>\n",
       "      <td>...</td>\n",
       "      <td>...</td>\n",
       "      <td>...</td>\n",
       "      <td>...</td>\n",
       "      <td>...</td>\n",
       "      <td>...</td>\n",
       "      <td>...</td>\n",
       "      <td>...</td>\n",
       "    </tr>\n",
       "    <tr>\n",
       "      <th>16995</th>\n",
       "      <td>0.008964</td>\n",
       "      <td>0.854410</td>\n",
       "      <td>1.000000</td>\n",
       "      <td>0.058389</td>\n",
       "      <td>0.060987</td>\n",
       "      <td>0.025337</td>\n",
       "      <td>0.060516</td>\n",
       "      <td>0.128081</td>\n",
       "      <td>111400.0</td>\n",
       "    </tr>\n",
       "    <tr>\n",
       "      <th>16996</th>\n",
       "      <td>0.007968</td>\n",
       "      <td>0.866100</td>\n",
       "      <td>0.686275</td>\n",
       "      <td>0.061869</td>\n",
       "      <td>0.081782</td>\n",
       "      <td>0.033381</td>\n",
       "      <td>0.076303</td>\n",
       "      <td>0.139170</td>\n",
       "      <td>79000.0</td>\n",
       "    </tr>\n",
       "    <tr>\n",
       "      <th>16997</th>\n",
       "      <td>0.004980</td>\n",
       "      <td>0.988310</td>\n",
       "      <td>0.313725</td>\n",
       "      <td>0.070515</td>\n",
       "      <td>0.082247</td>\n",
       "      <td>0.034782</td>\n",
       "      <td>0.074823</td>\n",
       "      <td>0.174577</td>\n",
       "      <td>103600.0</td>\n",
       "    </tr>\n",
       "    <tr>\n",
       "      <th>16998</th>\n",
       "      <td>0.004980</td>\n",
       "      <td>0.984060</td>\n",
       "      <td>0.352941</td>\n",
       "      <td>0.070384</td>\n",
       "      <td>0.085506</td>\n",
       "      <td>0.036296</td>\n",
       "      <td>0.078441</td>\n",
       "      <td>0.102054</td>\n",
       "      <td>85800.0</td>\n",
       "    </tr>\n",
       "    <tr>\n",
       "      <th>16999</th>\n",
       "      <td>0.000000</td>\n",
       "      <td>0.850159</td>\n",
       "      <td>1.000000</td>\n",
       "      <td>0.047924</td>\n",
       "      <td>0.046400</td>\n",
       "      <td>0.022506</td>\n",
       "      <td>0.044236</td>\n",
       "      <td>0.173432</td>\n",
       "      <td>94600.0</td>\n",
       "    </tr>\n",
       "  </tbody>\n",
       "</table>\n",
       "<p>17000 rows × 9 columns</p>\n",
       "</div>"
      ]
     },
     "execution_count": 169,
     "metadata": {},
     "output_type": "execute_result"
    }
   ],
   "execution_count": 169
  },
  {
   "metadata": {},
   "cell_type": "markdown",
   "source": "### Разделите данные на обучающий и тестовый наборы данных.",
   "id": "79057ce078426e42"
  },
  {
   "metadata": {
    "ExecuteTime": {
     "end_time": "2024-10-07T23:23:38.227016Z",
     "start_time": "2024-10-07T23:23:38.213839Z"
    }
   },
   "cell_type": "code",
   "source": [
    "X = data.drop(columns=['median_house_value'])\n",
    "Y = data['median_house_value']\n",
    "X = np.c_[np.ones(X.shape[0]), X]  # bias\n",
    "\n",
    "X_train, X_test, Y_train, Y_test = train_test_split(X, Y, test_size=0.2, random_state=42)"
   ],
   "id": "d5cc099c8a03d893",
   "outputs": [],
   "execution_count": 170
  },
  {
   "metadata": {},
   "cell_type": "markdown",
   "source": "### Реализуйте линейную регрессию с использованием метода наименьших квадратов без использования сторонних библиотек, кроме NumPy и Pandas (для использования коэффициентов использовать библиотеки тоже нельзя). Использовать минимизацию суммы квадратов разностей между фактическими и предсказанными значениями для нахождения оптимальных коэффициентов.",
   "id": "3bab063cfcf6021b"
  },
  {
   "metadata": {
    "ExecuteTime": {
     "end_time": "2024-10-07T23:23:38.243029Z",
     "start_time": "2024-10-07T23:23:38.228665Z"
    }
   },
   "cell_type": "code",
   "source": [
    "def lin_reg(X, Y):\n",
    "    B = np.linalg.inv(X.T.dot(X)).dot(X.T).dot(Y)\n",
    "    return B"
   ],
   "id": "d5c9b8cd6572b742",
   "outputs": [],
   "execution_count": 171
  },
  {
   "metadata": {
    "ExecuteTime": {
     "end_time": "2024-10-07T23:23:38.258336Z",
     "start_time": "2024-10-07T23:23:38.244031Z"
    }
   },
   "cell_type": "code",
   "source": [
    "def r_squared(Y_pred, Y):\n",
    "    return 1 - ((Y_pred - Y) ** 2).sum() / ((Y.mean() - Y) ** 2).sum()"
   ],
   "id": "e9d4f5947ad716e4",
   "outputs": [],
   "execution_count": 172
  },
  {
   "metadata": {},
   "cell_type": "markdown",
   "source": [
    "### Модель 1\n",
    "Все признаки"
   ],
   "id": "9dc146062c817506"
  },
  {
   "metadata": {
    "ExecuteTime": {
     "end_time": "2024-10-07T23:23:38.273554Z",
     "start_time": "2024-10-07T23:23:38.259845Z"
    }
   },
   "cell_type": "code",
   "source": [
    "B_model1 = lin_reg(X_train, Y_train)\n",
    "Y_pred_model1 = np.dot(X_test, B_model1)\n",
    "r2_model1 = r_squared(Y_test, Y_pred_model1)\n",
    "print(f\"r^2 для модели 1 со всеми признаками: {r2_model1}\")"
   ],
   "id": "d4a0968043fa5dc1",
   "outputs": [
    {
     "name": "stdout",
     "output_type": "stream",
     "text": [
      "r^2 для модели 1 со всеми признаками: 0.44923620463991465\n"
     ]
    }
   ],
   "execution_count": 173
  },
  {
   "metadata": {},
   "cell_type": "markdown",
   "source": [
    "### Модель 2\n",
    "Без координат"
   ],
   "id": "c76cf3a00fcc02b5"
  },
  {
   "metadata": {
    "ExecuteTime": {
     "end_time": "2024-10-07T23:31:04.403929Z",
     "start_time": "2024-10-07T23:31:04.389866Z"
    }
   },
   "cell_type": "code",
   "source": [
    "X_train_model2 = np.delete(X_train, [1, 2], axis=1)\n",
    "X_test_model2 = np.delete(X_test, [1, 2], axis=1)\n",
    "B_model2 = lin_reg(X_train_model2, Y_train)\n",
    "Y_pred_model2 = np.dot(X_test_model2, B_model2)\n",
    "r2_model2 = r_squared(Y_test, Y_pred_model2)\n",
    "print(f\"r^2 для модели 2 без учета координат: {r2_model1}\")"
   ],
   "id": "1bf099dbfbfb04f8",
   "outputs": [
    {
     "data": {
      "text/plain": [
       "np.float64(0.24218222589106042)"
      ]
     },
     "execution_count": 182,
     "metadata": {},
     "output_type": "execute_result"
    }
   ],
   "execution_count": 182
  },
  {
   "metadata": {},
   "cell_type": "markdown",
   "source": [
    "### Модель 3\n",
    "\n",
    "Без учета количества владельцев"
   ],
   "id": "ea0d25d2be2f280"
  },
  {
   "metadata": {
    "ExecuteTime": {
     "end_time": "2024-10-07T23:34:46.173825Z",
     "start_time": "2024-10-07T23:34:46.153710Z"
    }
   },
   "cell_type": "code",
   "source": [
    "X_train_model3 = np.delete(X_train, 7, axis=1)\n",
    "X_test_model3 = np.delete(X_test, 7, axis=1)\n",
    "B_model3 = lin_reg(X_train_model3, Y_train)\n",
    "Y_pred_model3 = np.dot(X_test_model3, B_model3)\n",
    "r2_model3 = r_squared(Y_test, Y_pred_model3)\n",
    "print(f\"r^2 для модели 3 без учета количества владельцев: {r2_model3}\")"
   ],
   "id": "faa9aeb74183640c",
   "outputs": [
    {
     "name": "stdout",
     "output_type": "stream",
     "text": [
      "r^2 для модели 3 без учета количества владельцев: 0.4485956169180224\n"
     ]
    }
   ],
   "execution_count": 183
  },
  {
   "metadata": {},
   "cell_type": "markdown",
   "source": [
    "Лучше всего показала себя модель 1 и 3\n",
    "Можно сделать вывод что локация дома сильно коррелирует со стоимостью, а количество владельцев оказывает очень слабое влияние"
   ],
   "id": "4ab3eae8ed5dd09c"
  }
 ],
 "metadata": {
  "kernelspec": {
   "display_name": "Python 3",
   "language": "python",
   "name": "python3"
  },
  "language_info": {
   "codemirror_mode": {
    "name": "ipython",
    "version": 2
   },
   "file_extension": ".py",
   "mimetype": "text/x-python",
   "name": "python",
   "nbconvert_exporter": "python",
   "pygments_lexer": "ipython2",
   "version": "2.7.6"
  }
 },
 "nbformat": 4,
 "nbformat_minor": 5
}
