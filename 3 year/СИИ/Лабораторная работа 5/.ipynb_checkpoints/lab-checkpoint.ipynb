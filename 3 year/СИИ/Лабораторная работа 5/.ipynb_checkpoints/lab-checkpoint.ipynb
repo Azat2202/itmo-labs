{
 "cells": [
  {
   "cell_type": "code",
   "id": "initial_id",
   "metadata": {
    "collapsed": true,
    "ExecuteTime": {
     "end_time": "2024-10-09T11:52:17.206190Z",
     "start_time": "2024-10-09T11:52:15.190033Z"
    }
   },
   "source": [
    "from dataclasses import dataclass, field\n",
    "from typing import Optional, Any, Dict, List\n",
    "\n",
    "import numpy as np\n",
    "import pandas as pd\n",
    "from matplotlib import pyplot as plt\n",
    "from sklearn.model_selection import train_test_split"
   ],
   "outputs": [
    {
     "ename": "ModuleNotFoundError",
     "evalue": "No module named 'numpy'",
     "output_type": "error",
     "traceback": [
      "\u001B[0;31m---------------------------------------------------------------------------\u001B[0m",
      "\u001B[0;31mModuleNotFoundError\u001B[0m                       Traceback (most recent call last)",
      "Cell \u001B[0;32mIn[1], line 4\u001B[0m\n\u001B[1;32m      1\u001B[0m \u001B[38;5;28;01mfrom\u001B[39;00m \u001B[38;5;21;01mdataclasses\u001B[39;00m \u001B[38;5;28;01mimport\u001B[39;00m dataclass, field\n\u001B[1;32m      2\u001B[0m \u001B[38;5;28;01mfrom\u001B[39;00m \u001B[38;5;21;01mtyping\u001B[39;00m \u001B[38;5;28;01mimport\u001B[39;00m Optional, Any, Dict, List\n\u001B[0;32m----> 4\u001B[0m \u001B[38;5;28;01mimport\u001B[39;00m \u001B[38;5;21;01mnumpy\u001B[39;00m \u001B[38;5;28;01mas\u001B[39;00m \u001B[38;5;21;01mnp\u001B[39;00m\n\u001B[1;32m      5\u001B[0m \u001B[38;5;28;01mimport\u001B[39;00m \u001B[38;5;21;01mpandas\u001B[39;00m \u001B[38;5;28;01mas\u001B[39;00m \u001B[38;5;21;01mpd\u001B[39;00m\n\u001B[1;32m      6\u001B[0m \u001B[38;5;28;01mfrom\u001B[39;00m \u001B[38;5;21;01mmatplotlib\u001B[39;00m \u001B[38;5;28;01mimport\u001B[39;00m pyplot \u001B[38;5;28;01mas\u001B[39;00m plt\n",
      "\u001B[0;31mModuleNotFoundError\u001B[0m: No module named 'numpy'"
     ]
    }
   ],
   "execution_count": 1
  },
  {
   "metadata": {},
   "cell_type": "markdown",
   "source": [
    "Загрузим датасет, уберем айди студента и изменим поле оценки"
   ],
   "id": "e02b78578319edc8"
  },
  {
   "metadata": {
    "ExecuteTime": {
     "end_time": "2024-10-09T11:52:17.237518Z",
     "start_time": "2024-10-09T11:52:17.207226Z"
    }
   },
   "cell_type": "code",
   "source": [
    "data = pd.read_csv(\"student_petf.csv\")\n",
    "data = data.iloc[:, 1:]\n",
    "data[\"GRADE\"] = data[\"GRADE\"].apply(lambda x: 0 if x <= 3 else 1)\n",
    "data"
   ],
   "id": "4e5897105360a015",
   "outputs": [],
   "execution_count": null
  },
  {
   "metadata": {
    "ExecuteTime": {
     "end_time": "2024-10-09T11:52:17.252873Z",
     "start_time": "2024-10-09T11:52:17.239669Z"
    }
   },
   "cell_type": "code",
   "source": [
    "@dataclass\n",
    "class Node:\n",
    "    feature: Optional[str] = None\n",
    "    value: Optional[Any] = None\n",
    "    is_leaf: bool = False\n",
    "    prediction: Optional[Any] = None\n",
    "    children: Dict[Any, 'Node'] = field(default_factory=lambda: {})\n",
    "    \n",
    "    def add_child(self, value: Any, child_node: 'Node') -> None:\n",
    "        self.children[value] = child_node\n"
   ],
   "id": "645a16c239674448",
   "outputs": [],
   "execution_count": null
  },
  {
   "metadata": {
    "ExecuteTime": {
     "end_time": "2024-10-09T11:52:17.284220Z",
     "start_time": "2024-10-09T11:52:17.255870Z"
    }
   },
   "cell_type": "code",
   "source": [
    "class C45:\n",
    "    def __init__(self, data: pd.DataFrame, target_col: str):\n",
    "        self.data = data\n",
    "        self.target_col = target_col\n",
    "        self.features = list(data.columns.drop(target_col))\n",
    "    \n",
    "    def _entropy(self, target_col: pd.Series) -> float:\n",
    "        elements, counts = np.unique(target_col, return_counts=True)\n",
    "        entropy = 0.0\n",
    "        for count in counts:\n",
    "            prob = count / np.sum(counts)\n",
    "            entropy -= prob * np.log2(prob)\n",
    "        return entropy\n",
    "\n",
    "    def _info(self, split_attr: str) -> float:\n",
    "        total_entropy = self._entropy(self.data[self.target_col])\n",
    "        vals, counts = np.unique(self.data[split_attr], return_counts=True)\n",
    "        \n",
    "        weighted_entropy = 0.0\n",
    "        for i, val in enumerate(vals):\n",
    "            subset = self.data[self.data[split_attr] == val]\n",
    "            prob = counts[i] / np.sum(counts)\n",
    "            weighted_entropy += prob * self._entropy(subset[self.target_col])\n",
    "        return total_entropy - weighted_entropy\n",
    "    \n",
    "    \n",
    "    def _build_tree(self,\n",
    "                   data: pd.DataFrame,\n",
    "                   parent_node: Optional[Any],\n",
    "                   features: List[str]) -> Node:\n",
    "        if len(np.unique(data[self.target_col])) == 1:\n",
    "            return Node(is_leaf=True, prediction=np.unique(data[self.target_col])[0])\n",
    "\n",
    "        if len(data) == 0:\n",
    "            common_class = np.unique(self.data[self.target_col])[\n",
    "                np.argmax(np.unique(self.data[self.target_col], return_counts=True)[1])\n",
    "            ]\n",
    "            return Node(is_leaf=True, prediction=common_class)\n",
    "        \n",
    "        parent_node_сlass = np.unique(self.data[self.target_col])[\n",
    "            np.argmax(np.unique(self.data[self.target_col], return_counts=True)[1])\n",
    "        ]\n",
    "        if len(features) == 0:\n",
    "            return Node(is_leaf=True, prediction=parent_node_сlass)\n",
    "        item_values = [\n",
    "            self._info(feature) for feature in features\n",
    "        ]\n",
    "        best_feature_index = int(np.argmax(item_values))\n",
    "        best_feature = features[best_feature_index]\n",
    "        root = Node(feature=best_feature)\n",
    "        \n",
    "        remaining_features = [feature for feature in features if feature != best_feature]\n",
    "        \n",
    "        for value in np.unique(data[best_feature]):\n",
    "            subset = data[data[best_feature] == value]\n",
    "            child_node = self._build_tree(subset, parent_node_сlass, remaining_features)\n",
    "            root.add_child(value, child_node)\n",
    "        \n",
    "        return root\n",
    "    \n",
    "    def fit(self):\n",
    "        return self._build_tree(self.data, None, self.features)\n",
    "    \n",
    "    def predict_one(self, node: Node, row: pd.Series) -> Any:\n",
    "        if node.is_leaf:\n",
    "            return node.prediction\n",
    "        value = row[node.feature]\n",
    "        if value in node.children:\n",
    "            return self.predict_one(node.children[value], row)\n",
    "        else:\n",
    "            return 0.5\n",
    "\n",
    "    def predict(self, node: Node, data: pd.DataFrame) -> List[Any]:\n",
    "        return [self.predict_one(node, row) for _, row in data.iterrows()]\n",
    "\n",
    "    def print_tree(self, node: Node, indent: str = \"\") -> None:\n",
    "        if node.is_leaf:\n",
    "            print(f\"{indent}Predict: {node.prediction}\")\n",
    "        else:\n",
    "            for value, child in node.children.items():\n",
    "                print(f\"{indent}[{node.feature} = {value}]\")\n",
    "                self.print_tree(child, indent + \"\\t\")\n",
    "        \n"
   ],
   "id": "b16b0a1142bab67a",
   "outputs": [],
   "execution_count": null
  },
  {
   "metadata": {
    "ExecuteTime": {
     "end_time": "2024-10-09T11:52:19.554017Z",
     "start_time": "2024-10-09T11:52:17.285220Z"
    }
   },
   "cell_type": "code",
   "source": [
    "data_train, data_test = train_test_split(data, test_size=0.2, random_state=42)\n",
    "\n",
    "tree = C45(data_train, \"GRADE\")\n",
    "root = tree.fit()\n",
    "tree.print_tree(root)"
   ],
   "id": "51f83f585b41b310",
   "outputs": [],
   "execution_count": null
  },
  {
   "metadata": {
    "ExecuteTime": {
     "end_time": "2024-10-09T11:52:19.570050Z",
     "start_time": "2024-10-09T11:52:19.557026Z"
    }
   },
   "cell_type": "code",
   "source": [
    "y_pred = tree.predict(root, data_test)"
   ],
   "id": "7124c9fc6bf01c63",
   "outputs": [],
   "execution_count": null
  },
  {
   "metadata": {
    "ExecuteTime": {
     "end_time": "2024-10-09T11:52:19.585758Z",
     "start_time": "2024-10-09T11:52:19.573197Z"
    }
   },
   "cell_type": "code",
   "source": [
    "def rates(y_true, y_predicted):\n",
    "    tp, fp, tn, fn = 0, 0, 0, 0\n",
    "    for true_label, pred_label in zip(y_true, y_predicted):\n",
    "        if true_label == pred_label:\n",
    "            if true_label == 1: tp += 1\n",
    "            else: tn += 1\n",
    "        else:\n",
    "            if true_label == 1: fp += 1\n",
    "            else: fn += 1\n",
    "    return tp, fp, tn, fn\n",
    "\n",
    "def evaluate(y_true: List[Any], y_predicted: List[Any]) -> tuple[float, float, float]:\n",
    "    tp, fp, tn, fn = rates(y_true, y_predicted)\n",
    "    accuracy = (tp + fp) / len(y_true) \n",
    "    precision = tp / (tp + fp)\n",
    "    recall = tp / (tp + fn)\n",
    "    return accuracy, precision, recall"
   ],
   "id": "41e4f1306fd725ce",
   "outputs": [],
   "execution_count": null
  },
  {
   "metadata": {
    "ExecuteTime": {
     "end_time": "2024-10-09T11:52:19.601255Z",
     "start_time": "2024-10-09T11:52:19.589270Z"
    }
   },
   "cell_type": "code",
   "source": [
    "accuracy, precision, recall = evaluate(data_test[\"GRADE\"], y_pred)\n",
    "print(f\"{accuracy=:.3}\")\n",
    "print(f\"{precision=:.3}\")\n",
    "print(f\"{recall=:.3}\")"
   ],
   "id": "9f3cd2734b4a0c5b",
   "outputs": [],
   "execution_count": null
  },
  {
   "metadata": {
    "ExecuteTime": {
     "end_time": "2024-10-09T11:54:04.710669Z",
     "start_time": "2024-10-09T11:54:04.698631Z"
    }
   },
   "cell_type": "code",
   "source": [
    "def roc_curve(y_true, y_proba):\n",
    "    tpr_list, fpr_list = [], [] \n",
    "    for i, y in enumerate(y_true):\n",
    "        if i == 0:\n",
    "            continue\n",
    "        tp, fp, tn, fn = rates(y_true[:i], y_proba[:i])\n",
    "        if (tp + fn) == 0:\n",
    "            tpr = 0\n",
    "        else:\n",
    "            tpr = tp / (tp + fn)\n",
    "        if (fp + tn) == 0:\n",
    "            fpr = 0\n",
    "        else:\n",
    "            fpr = fp / (fp + tn)\n",
    "        tpr_list.append(tpr)\n",
    "        fpr_list.append(fpr)\n",
    "    return tpr_list, fpr_list"
   ],
   "id": "c4ecfefb22718735",
   "outputs": [],
   "execution_count": 3
  },
  {
   "metadata": {
    "ExecuteTime": {
     "end_time": "2024-10-09T11:54:06.531587Z",
     "start_time": "2024-10-09T11:54:06.401272Z"
    }
   },
   "cell_type": "code",
   "source": [
    "tpr_list, fpr_list = roc_curve(data_test[\"GRADE\"], y_pred)\n",
    "plt.figure(figsize=(8, 6))\n",
    "plt.plot(fpr_list, tpr_list, color='blue', label='ROC Curve')\n",
    "plt.plot([0, 1], [0, 1], color='red', linestyle='--')\n",
    "plt.xlabel('False Positive Rate')\n",
    "plt.ylabel('True Positive Rate (Recall)')\n",
    "plt.title('ROC Curve')\n",
    "plt.legend()\n",
    "plt.show()"
   ],
   "id": "6603fd0dd5e7bf89",
   "outputs": [
    {
     "ename": "NameError",
     "evalue": "name 'data_test' is not defined",
     "output_type": "error",
     "traceback": [
      "\u001B[0;31m---------------------------------------------------------------------------\u001B[0m",
      "\u001B[0;31mNameError\u001B[0m                                 Traceback (most recent call last)",
      "Cell \u001B[0;32mIn[4], line 1\u001B[0m\n\u001B[0;32m----> 1\u001B[0m tpr_list, fpr_list \u001B[38;5;241m=\u001B[39m roc_curve(\u001B[43mdata_test\u001B[49m[\u001B[38;5;124m\"\u001B[39m\u001B[38;5;124mGRADE\u001B[39m\u001B[38;5;124m\"\u001B[39m], y_pred)\n\u001B[1;32m      2\u001B[0m plt\u001B[38;5;241m.\u001B[39mfigure(figsize\u001B[38;5;241m=\u001B[39m(\u001B[38;5;241m8\u001B[39m, \u001B[38;5;241m6\u001B[39m))\n\u001B[1;32m      3\u001B[0m plt\u001B[38;5;241m.\u001B[39mplot(fpr_list, tpr_list, color\u001B[38;5;241m=\u001B[39m\u001B[38;5;124m'\u001B[39m\u001B[38;5;124mblue\u001B[39m\u001B[38;5;124m'\u001B[39m, label\u001B[38;5;241m=\u001B[39m\u001B[38;5;124m'\u001B[39m\u001B[38;5;124mROC Curve\u001B[39m\u001B[38;5;124m'\u001B[39m)\n",
      "\u001B[0;31mNameError\u001B[0m: name 'data_test' is not defined"
     ]
    }
   ],
   "execution_count": 4
  },
  {
   "metadata": {},
   "cell_type": "code",
   "source": [
    "from sklearn import metrics\n",
    "\n",
    "fpr, tpr, _ = metrics.roc_curve(data_test[\"GRADE\"], y_pred)\n",
    "\n",
    "# построение ROC кривой\n",
    "plt.plot(fpr, tpr)\n",
    "plt.ylabel('True Positive Rate')\n",
    "plt.xlabel('False Positive Rate')\n",
    "plt.show()\n",
    "auc = metrics.roc_auc_score(data_test[\"GRADE\"], y_pred)\n",
    "print(\"AUC: %.3f\" % auc)"
   ],
   "id": "ffa7532b0c7c7370",
   "outputs": [],
   "execution_count": null
  }
 ],
 "metadata": {
  "kernelspec": {
   "display_name": "Python 3",
   "language": "python",
   "name": "python3"
  },
  "language_info": {
   "codemirror_mode": {
    "name": "ipython",
    "version": 2
   },
   "file_extension": ".py",
   "mimetype": "text/x-python",
   "name": "python",
   "nbconvert_exporter": "python",
   "pygments_lexer": "ipython2",
   "version": "2.7.6"
  }
 },
 "nbformat": 4,
 "nbformat_minor": 5
}
